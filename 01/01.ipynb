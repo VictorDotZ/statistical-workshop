{
 "cells": [
  {
   "cell_type": "code",
   "execution_count": 1,
   "metadata": {},
   "outputs": [],
   "source": [
    "import pandas as pd\n",
    "import statsmodels.api as sm\n",
    "from statsmodels.graphics.factorplots import interaction_plot\n",
    "from statsmodels.stats.anova import anova_lm\n"
   ]
  },
  {
   "cell_type": "code",
   "execution_count": 2,
   "metadata": {},
   "outputs": [
    {
     "name": "stdout",
     "output_type": "stream",
     "text": [
      "130\n"
     ]
    },
    {
     "data": {
      "text/html": [
       "<div>\n",
       "<style scoped>\n",
       "    .dataframe tbody tr th:only-of-type {\n",
       "        vertical-align: middle;\n",
       "    }\n",
       "\n",
       "    .dataframe tbody tr th {\n",
       "        vertical-align: top;\n",
       "    }\n",
       "\n",
       "    .dataframe thead th {\n",
       "        text-align: right;\n",
       "    }\n",
       "</style>\n",
       "<table border=\"1\" class=\"dataframe\">\n",
       "  <thead>\n",
       "    <tr style=\"text-align: right;\">\n",
       "      <th></th>\n",
       "      <th>Date</th>\n",
       "      <th>SoilMoisture</th>\n",
       "      <th>Average_Temp</th>\n",
       "      <th>Min_Temp</th>\n",
       "      <th>Max_Temp</th>\n",
       "      <th>Precipitation</th>\n",
       "      <th>Working_days</th>\n",
       "      <th>HA_Harvested</th>\n",
       "      <th>FFB_Yield</th>\n",
       "    </tr>\n",
       "  </thead>\n",
       "  <tbody>\n",
       "    <tr>\n",
       "      <th>0</th>\n",
       "      <td>01.01.2008</td>\n",
       "      <td>616.4</td>\n",
       "      <td>25.306452</td>\n",
       "      <td>21.3</td>\n",
       "      <td>32.2</td>\n",
       "      <td>184.4</td>\n",
       "      <td>25</td>\n",
       "      <td>777778.3951</td>\n",
       "      <td>1.62</td>\n",
       "    </tr>\n",
       "    <tr>\n",
       "      <th>1</th>\n",
       "      <td>01.02.2008</td>\n",
       "      <td>568.9</td>\n",
       "      <td>26.165517</td>\n",
       "      <td>20.9</td>\n",
       "      <td>35.1</td>\n",
       "      <td>140.2</td>\n",
       "      <td>23</td>\n",
       "      <td>767988.2759</td>\n",
       "      <td>1.45</td>\n",
       "    </tr>\n",
       "    <tr>\n",
       "      <th>2</th>\n",
       "      <td>01.03.2008</td>\n",
       "      <td>577.6</td>\n",
       "      <td>25.448387</td>\n",
       "      <td>21.3</td>\n",
       "      <td>32.9</td>\n",
       "      <td>280.4</td>\n",
       "      <td>25</td>\n",
       "      <td>783951.9231</td>\n",
       "      <td>1.56</td>\n",
       "    </tr>\n",
       "    <tr>\n",
       "      <th>3</th>\n",
       "      <td>01.04.2008</td>\n",
       "      <td>581.1</td>\n",
       "      <td>26.903333</td>\n",
       "      <td>20.6</td>\n",
       "      <td>34.8</td>\n",
       "      <td>173.3</td>\n",
       "      <td>25</td>\n",
       "      <td>788987.0504</td>\n",
       "      <td>1.39</td>\n",
       "    </tr>\n",
       "    <tr>\n",
       "      <th>4</th>\n",
       "      <td>01.05.2008</td>\n",
       "      <td>545.4</td>\n",
       "      <td>27.241935</td>\n",
       "      <td>20.9</td>\n",
       "      <td>35.0</td>\n",
       "      <td>140.6</td>\n",
       "      <td>25</td>\n",
       "      <td>813659.7222</td>\n",
       "      <td>1.44</td>\n",
       "    </tr>\n",
       "  </tbody>\n",
       "</table>\n",
       "</div>"
      ],
      "text/plain": [
       "         Date  SoilMoisture  Average_Temp  Min_Temp  Max_Temp  Precipitation  \\\n",
       "0  01.01.2008         616.4     25.306452      21.3      32.2          184.4   \n",
       "1  01.02.2008         568.9     26.165517      20.9      35.1          140.2   \n",
       "2  01.03.2008         577.6     25.448387      21.3      32.9          280.4   \n",
       "3  01.04.2008         581.1     26.903333      20.6      34.8          173.3   \n",
       "4  01.05.2008         545.4     27.241935      20.9      35.0          140.6   \n",
       "\n",
       "   Working_days  HA_Harvested  FFB_Yield  \n",
       "0            25   777778.3951       1.62  \n",
       "1            23   767988.2759       1.45  \n",
       "2            25   783951.9231       1.56  \n",
       "3            25   788987.0504       1.39  \n",
       "4            25   813659.7222       1.44  "
      ]
     },
     "execution_count": 2,
     "metadata": {},
     "output_type": "execute_result"
    }
   ],
   "source": [
    "df = pd.read_csv(\"palm_ffb.csv\")\n",
    "print(len(df))\n",
    "df.head()\n"
   ]
  },
  {
   "cell_type": "code",
   "execution_count": 3,
   "metadata": {},
   "outputs": [
    {
     "data": {
      "text/plain": [
       "<AxesSubplot:>"
      ]
     },
     "execution_count": 3,
     "metadata": {},
     "output_type": "execute_result"
    },
    {
     "data": {
      "image/png": "[encoded data removed]",
      "text/plain": [
       "<Figure size 432x288 with 1 Axes>"
      ]
     },
     "metadata": {
      "needs_background": "light"
     },
     "output_type": "display_data"
    }
   ],
   "source": [
    "df[\"Precipitation\"].hist()\n"
   ]
  },
  {
   "cell_type": "code",
   "execution_count": 4,
   "metadata": {},
   "outputs": [
    {
     "data": {
      "text/plain": [
       "<AxesSubplot:>"
      ]
     },
     "execution_count": 4,
     "metadata": {},
     "output_type": "execute_result"
    },
    {
     "data": {
      "image/png": "[encoded data removed]",
      "text/plain": [
       "<Figure size 432x288 with 1 Axes>"
      ]
     },
     "metadata": {
      "needs_background": "light"
     },
     "output_type": "display_data"
    }
   ],
   "source": [
    "df[\"temp_diff\"] = df[\"Max_Temp\"] - df[\"Min_Temp\"]\n",
    "df[\"temp_diff\"].hist()\n"
   ]
  },
  {
   "cell_type": "code",
   "execution_count": 97,
   "metadata": {},
   "outputs": [],
   "source": [
    "df[\"temp_category\"] = 0\n",
    "df.loc[df[\"temp_diff\"].argsort()[len(df) // 3 :], \"temp_category\"] += 1\n",
    "df.loc[df[\"temp_diff\"].argsort()[2 * len(df) // 3 :], \"temp_category\"] += 1\n",
    "\n",
    "df[\"precipitation_category\"] = 0\n",
    "\n",
    "df.loc[df[\"Precipitation\"].argsort()[len(df) // 3 :], \"precipitation_category\"] += 1\n",
    "df.loc[df[\"Precipitation\"].argsort()[2 * len(df) // 3 :], \"precipitation_category\"] += 1\n"
   ]
  },
  {
   "cell_type": "code",
   "execution_count": 5,
   "metadata": {},
   "outputs": [],
   "source": [
    "precipitation_mean, precipitation_std = (\n",
    "    df[\"Precipitation\"].mean(),\n",
    "    df[\"Precipitation\"].std(),\n",
    ")\n",
    "temp_diff_mean, temp_diff_std = df[\"temp_diff\"].mean(), df[\"temp_diff\"].std()\n",
    "\n",
    "\n",
    "df[\"temp_category\"] = 0\n",
    "df.loc[df[\"temp_diff\"] > temp_diff_mean - temp_diff_std / 2, \"temp_category\"] += 1\n",
    "df.loc[df[\"temp_diff\"] > temp_diff_mean + temp_diff_std / 2, \"temp_category\"] += 1\n",
    "\n",
    "df[\"precipitation_category\"] = 0\n",
    "\n",
    "df.loc[\n",
    "    df[\"Precipitation\"] > precipitation_mean - precipitation_std / 2,\n",
    "    \"precipitation_category\",\n",
    "] += 1\n",
    "df.loc[\n",
    "    df[\"Precipitation\"] > precipitation_mean + precipitation_std / 2,\n",
    "    \"precipitation_category\",\n",
    "] += 1\n"
   ]
  },
  {
   "cell_type": "code",
   "execution_count": 6,
   "metadata": {},
   "outputs": [
    {
     "data": {
      "text/html": [
       "<table class=\"simpletable\">\n",
       "<caption>OLS Regression Results</caption>\n",
       "<tr>\n",
       "  <th>Dep. Variable:</th>        <td>FFB_Yield</td>    <th>  R-squared:         </th> <td>   0.123</td>\n",
       "</tr>\n",
       "<tr>\n",
       "  <th>Model:</th>                   <td>OLS</td>       <th>  Adj. R-squared:    </th> <td>   0.065</td>\n",
       "</tr>\n",
       "<tr>\n",
       "  <th>Method:</th>             <td>Least Squares</td>  <th>  F-statistic:       </th> <td>   2.120</td>\n",
       "</tr>\n",
       "<tr>\n",
       "  <th>Date:</th>             <td>Fri, 27 May 2022</td> <th>  Prob (F-statistic):</th>  <td>0.0389</td> \n",
       "</tr>\n",
       "<tr>\n",
       "  <th>Time:</th>                 <td>03:40:49</td>     <th>  Log-Likelihood:    </th> <td> -10.760</td>\n",
       "</tr>\n",
       "<tr>\n",
       "  <th>No. Observations:</th>      <td>   130</td>      <th>  AIC:               </th> <td>   39.52</td>\n",
       "</tr>\n",
       "<tr>\n",
       "  <th>Df Residuals:</th>          <td>   121</td>      <th>  BIC:               </th> <td>   65.33</td>\n",
       "</tr>\n",
       "<tr>\n",
       "  <th>Df Model:</th>              <td>     8</td>      <th>                     </th>     <td> </td>   \n",
       "</tr>\n",
       "<tr>\n",
       "  <th>Covariance Type:</th>      <td>nonrobust</td>    <th>                     </th>     <td> </td>   \n",
       "</tr>\n",
       "</table>\n",
       "<table class=\"simpletable\">\n",
       "<tr>\n",
       "                            <td></td>                              <th>coef</th>     <th>std err</th>      <th>t</th>      <th>P>|t|</th>  <th>[0.025</th>    <th>0.975]</th>  \n",
       "</tr>\n",
       "<tr>\n",
       "  <th>Intercept</th>                                            <td>    1.5600</td> <td>    0.111</td> <td>   14.025</td> <td> 0.000</td> <td>    1.340</td> <td>    1.780</td>\n",
       "</tr>\n",
       "<tr>\n",
       "  <th>C(precipitation_category)[T.1]</th>                       <td>    0.0333</td> <td>    0.132</td> <td>    0.253</td> <td> 0.800</td> <td>   -0.227</td> <td>    0.294</td>\n",
       "</tr>\n",
       "<tr>\n",
       "  <th>C(precipitation_category)[T.2]</th>                       <td>    0.1481</td> <td>    0.126</td> <td>    1.174</td> <td> 0.243</td> <td>   -0.102</td> <td>    0.398</td>\n",
       "</tr>\n",
       "<tr>\n",
       "  <th>C(temp_category)[T.1]</th>                                <td>   -0.0079</td> <td>    0.133</td> <td>   -0.059</td> <td> 0.953</td> <td>   -0.271</td> <td>    0.255</td>\n",
       "</tr>\n",
       "<tr>\n",
       "  <th>C(temp_category)[T.2]</th>                                <td>   -0.1327</td> <td>    0.125</td> <td>   -1.058</td> <td> 0.292</td> <td>   -0.381</td> <td>    0.116</td>\n",
       "</tr>\n",
       "<tr>\n",
       "  <th>C(precipitation_category)[T.1]:C(temp_category)[T.1]</th> <td>    0.0263</td> <td>    0.161</td> <td>    0.163</td> <td> 0.871</td> <td>   -0.292</td> <td>    0.345</td>\n",
       "</tr>\n",
       "<tr>\n",
       "  <th>C(precipitation_category)[T.2]:C(temp_category)[T.1]</th> <td>   -0.0862</td> <td>    0.169</td> <td>   -0.510</td> <td> 0.611</td> <td>   -0.421</td> <td>    0.249</td>\n",
       "</tr>\n",
       "<tr>\n",
       "  <th>C(precipitation_category)[T.1]:C(temp_category)[T.2]</th> <td>    0.2644</td> <td>    0.158</td> <td>    1.678</td> <td> 0.096</td> <td>   -0.047</td> <td>    0.576</td>\n",
       "</tr>\n",
       "<tr>\n",
       "  <th>C(precipitation_category)[T.2]:C(temp_category)[T.2]</th> <td>    0.1946</td> <td>    0.306</td> <td>    0.636</td> <td> 0.526</td> <td>   -0.411</td> <td>    0.800</td>\n",
       "</tr>\n",
       "</table>\n",
       "<table class=\"simpletable\">\n",
       "<tr>\n",
       "  <th>Omnibus:</th>       <td> 5.772</td> <th>  Durbin-Watson:     </th> <td>   0.588</td>\n",
       "</tr>\n",
       "<tr>\n",
       "  <th>Prob(Omnibus):</th> <td> 0.056</td> <th>  Jarque-Bera (JB):  </th> <td>   3.150</td>\n",
       "</tr>\n",
       "<tr>\n",
       "  <th>Skew:</th>          <td> 0.143</td> <th>  Prob(JB):          </th> <td>   0.207</td>\n",
       "</tr>\n",
       "<tr>\n",
       "  <th>Kurtosis:</th>      <td> 2.293</td> <th>  Cond. No.          </th> <td>    20.3</td>\n",
       "</tr>\n",
       "</table><br/><br/>Notes:<br/>[1] Standard Errors assume that the covariance matrix of the errors is correctly specified."
      ],
      "text/plain": [
       "<class 'statsmodels.iolib.summary.Summary'>\n",
       "\"\"\"\n",
       "                            OLS Regression Results                            \n",
       "==============================================================================\n",
       "Dep. Variable:              FFB_Yield   R-squared:                       0.123\n",
       "Model:                            OLS   Adj. R-squared:                  0.065\n",
       "Method:                 Least Squares   F-statistic:                     2.120\n",
       "Date:                Fri, 27 May 2022   Prob (F-statistic):             0.0389\n",
       "Time:                        03:40:49   Log-Likelihood:                -10.760\n",
       "No. Observations:                 130   AIC:                             39.52\n",
       "Df Residuals:                     121   BIC:                             65.33\n",
       "Df Model:                           8                                         \n",
       "Covariance Type:            nonrobust                                         \n",
       "========================================================================================================================\n",
       "                                                           coef    std err          t      P>|t|      [0.025      0.975]\n",
       "------------------------------------------------------------------------------------------------------------------------\n",
       "Intercept                                                1.5600      0.111     14.025      0.000       1.340       1.780\n",
       "C(precipitation_category)[T.1]                           0.0333      0.132      0.253      0.800      -0.227       0.294\n",
       "C(precipitation_category)[T.2]                           0.1481      0.126      1.174      0.243      -0.102       0.398\n",
       "C(temp_category)[T.1]                                   -0.0079      0.133     -0.059      0.953      -0.271       0.255\n",
       "C(temp_category)[T.2]                                   -0.1327      0.125     -1.058      0.292      -0.381       0.116\n",
       "C(precipitation_category)[T.1]:C(temp_category)[T.1]     0.0263      0.161      0.163      0.871      -0.292       0.345\n",
       "C(precipitation_category)[T.2]:C(temp_category)[T.1]    -0.0862      0.169     -0.510      0.611      -0.421       0.249\n",
       "C(precipitation_category)[T.1]:C(temp_category)[T.2]     0.2644      0.158      1.678      0.096      -0.047       0.576\n",
       "C(precipitation_category)[T.2]:C(temp_category)[T.2]     0.1946      0.306      0.636      0.526      -0.411       0.800\n",
       "==============================================================================\n",
       "Omnibus:                        5.772   Durbin-Watson:                   0.588\n",
       "Prob(Omnibus):                  0.056   Jarque-Bera (JB):                3.150\n",
       "Skew:                           0.143   Prob(JB):                        0.207\n",
       "Kurtosis:                       2.293   Cond. No.                         20.3\n",
       "==============================================================================\n",
       "\n",
       "Notes:\n",
       "[1] Standard Errors assume that the covariance matrix of the errors is correctly specified.\n",
       "\"\"\""
      ]
     },
     "execution_count": 6,
     "metadata": {},
     "output_type": "execute_result"
    }
   ],
   "source": [
    "model = sm.OLS.from_formula(\n",
    "    \"FFB_Yield ~ C(precipitation_category) + C(temp_category) + C(precipitation_category):C(temp_category)\",\n",
    "    data=df,\n",
    ").fit()\n",
    "model.summary()\n"
   ]
  },
  {
   "cell_type": "code",
   "execution_count": 7,
   "metadata": {},
   "outputs": [
    {
     "data": {
      "text/html": [
       "<table class=\"simpletable\">\n",
       "<caption>OLS Regression Results</caption>\n",
       "<tr>\n",
       "  <th>Dep. Variable:</th>        <td>FFB_Yield</td>    <th>  R-squared:         </th> <td>   0.123</td>\n",
       "</tr>\n",
       "<tr>\n",
       "  <th>Model:</th>                   <td>OLS</td>       <th>  Adj. R-squared:    </th> <td>   0.065</td>\n",
       "</tr>\n",
       "<tr>\n",
       "  <th>Method:</th>             <td>Least Squares</td>  <th>  F-statistic:       </th> <td>   9.230</td>\n",
       "</tr>\n",
       "<tr>\n",
       "  <th>Date:</th>             <td>Fri, 27 May 2022</td> <th>  Prob (F-statistic):</th> <td>7.31e-10</td>\n",
       "</tr>\n",
       "<tr>\n",
       "  <th>Time:</th>                 <td>03:40:50</td>     <th>  Log-Likelihood:    </th> <td> -10.760</td>\n",
       "</tr>\n",
       "<tr>\n",
       "  <th>No. Observations:</th>      <td>   130</td>      <th>  AIC:               </th> <td>   39.52</td>\n",
       "</tr>\n",
       "<tr>\n",
       "  <th>Df Residuals:</th>          <td>   121</td>      <th>  BIC:               </th> <td>   65.33</td>\n",
       "</tr>\n",
       "<tr>\n",
       "  <th>Df Model:</th>              <td>     8</td>      <th>                     </th>     <td> </td>   \n",
       "</tr>\n",
       "<tr>\n",
       "  <th>Covariance Type:</th>         <td>HC3</td>       <th>                     </th>     <td> </td>   \n",
       "</tr>\n",
       "</table>\n",
       "<table class=\"simpletable\">\n",
       "<tr>\n",
       "                            <td></td>                              <th>coef</th>     <th>std err</th>      <th>t</th>      <th>P>|t|</th>  <th>[0.025</th>    <th>0.975]</th>  \n",
       "</tr>\n",
       "<tr>\n",
       "  <th>Intercept</th>                                            <td>    1.5600</td> <td>    0.141</td> <td>   11.080</td> <td> 0.000</td> <td>    1.281</td> <td>    1.839</td>\n",
       "</tr>\n",
       "<tr>\n",
       "  <th>C(precipitation_category)[T.1]</th>                       <td>    0.0333</td> <td>    0.163</td> <td>    0.205</td> <td> 0.838</td> <td>   -0.289</td> <td>    0.356</td>\n",
       "</tr>\n",
       "<tr>\n",
       "  <th>C(precipitation_category)[T.2]</th>                       <td>    0.1481</td> <td>    0.157</td> <td>    0.945</td> <td> 0.347</td> <td>   -0.162</td> <td>    0.458</td>\n",
       "</tr>\n",
       "<tr>\n",
       "  <th>C(temp_category)[T.1]</th>                                <td>   -0.0079</td> <td>    0.154</td> <td>   -0.051</td> <td> 0.959</td> <td>   -0.313</td> <td>    0.297</td>\n",
       "</tr>\n",
       "<tr>\n",
       "  <th>C(temp_category)[T.2]</th>                                <td>   -0.1327</td> <td>    0.150</td> <td>   -0.884</td> <td> 0.378</td> <td>   -0.430</td> <td>    0.165</td>\n",
       "</tr>\n",
       "<tr>\n",
       "  <th>C(precipitation_category)[T.1]:C(temp_category)[T.1]</th> <td>    0.0263</td> <td>    0.184</td> <td>    0.143</td> <td> 0.887</td> <td>   -0.338</td> <td>    0.391</td>\n",
       "</tr>\n",
       "<tr>\n",
       "  <th>C(precipitation_category)[T.2]:C(temp_category)[T.1]</th> <td>   -0.0862</td> <td>    0.191</td> <td>   -0.452</td> <td> 0.652</td> <td>   -0.464</td> <td>    0.292</td>\n",
       "</tr>\n",
       "<tr>\n",
       "  <th>C(precipitation_category)[T.1]:C(temp_category)[T.2]</th> <td>    0.2644</td> <td>    0.182</td> <td>    1.452</td> <td> 0.149</td> <td>   -0.096</td> <td>    0.625</td>\n",
       "</tr>\n",
       "<tr>\n",
       "  <th>C(precipitation_category)[T.2]:C(temp_category)[T.2]</th> <td>    0.1946</td> <td>    0.165</td> <td>    1.178</td> <td> 0.241</td> <td>   -0.132</td> <td>    0.522</td>\n",
       "</tr>\n",
       "</table>\n",
       "<table class=\"simpletable\">\n",
       "<tr>\n",
       "  <th>Omnibus:</th>       <td> 5.772</td> <th>  Durbin-Watson:     </th> <td>   0.588</td>\n",
       "</tr>\n",
       "<tr>\n",
       "  <th>Prob(Omnibus):</th> <td> 0.056</td> <th>  Jarque-Bera (JB):  </th> <td>   3.150</td>\n",
       "</tr>\n",
       "<tr>\n",
       "  <th>Skew:</th>          <td> 0.143</td> <th>  Prob(JB):          </th> <td>   0.207</td>\n",
       "</tr>\n",
       "<tr>\n",
       "  <th>Kurtosis:</th>      <td> 2.293</td> <th>  Cond. No.          </th> <td>    20.3</td>\n",
       "</tr>\n",
       "</table><br/><br/>Notes:<br/>[1] Standard Errors are heteroscedasticity robust (HC3)"
      ],
      "text/plain": [
       "<class 'statsmodels.iolib.summary.Summary'>\n",
       "\"\"\"\n",
       "                            OLS Regression Results                            \n",
       "==============================================================================\n",
       "Dep. Variable:              FFB_Yield   R-squared:                       0.123\n",
       "Model:                            OLS   Adj. R-squared:                  0.065\n",
       "Method:                 Least Squares   F-statistic:                     9.230\n",
       "Date:                Fri, 27 May 2022   Prob (F-statistic):           7.31e-10\n",
       "Time:                        03:40:50   Log-Likelihood:                -10.760\n",
       "No. Observations:                 130   AIC:                             39.52\n",
       "Df Residuals:                     121   BIC:                             65.33\n",
       "Df Model:                           8                                         \n",
       "Covariance Type:                  HC3                                         \n",
       "========================================================================================================================\n",
       "                                                           coef    std err          t      P>|t|      [0.025      0.975]\n",
       "------------------------------------------------------------------------------------------------------------------------\n",
       "Intercept                                                1.5600      0.141     11.080      0.000       1.281       1.839\n",
       "C(precipitation_category)[T.1]                           0.0333      0.163      0.205      0.838      -0.289       0.356\n",
       "C(precipitation_category)[T.2]                           0.1481      0.157      0.945      0.347      -0.162       0.458\n",
       "C(temp_category)[T.1]                                   -0.0079      0.154     -0.051      0.959      -0.313       0.297\n",
       "C(temp_category)[T.2]                                   -0.1327      0.150     -0.884      0.378      -0.430       0.165\n",
       "C(precipitation_category)[T.1]:C(temp_category)[T.1]     0.0263      0.184      0.143      0.887      -0.338       0.391\n",
       "C(precipitation_category)[T.2]:C(temp_category)[T.1]    -0.0862      0.191     -0.452      0.652      -0.464       0.292\n",
       "C(precipitation_category)[T.1]:C(temp_category)[T.2]     0.2644      0.182      1.452      0.149      -0.096       0.625\n",
       "C(precipitation_category)[T.2]:C(temp_category)[T.2]     0.1946      0.165      1.178      0.241      -0.132       0.522\n",
       "==============================================================================\n",
       "Omnibus:                        5.772   Durbin-Watson:                   0.588\n",
       "Prob(Omnibus):                  0.056   Jarque-Bera (JB):                3.150\n",
       "Skew:                           0.143   Prob(JB):                        0.207\n",
       "Kurtosis:                       2.293   Cond. No.                         20.3\n",
       "==============================================================================\n",
       "\n",
       "Notes:\n",
       "[1] Standard Errors are heteroscedasticity robust (HC3)\n",
       "\"\"\""
      ]
     },
     "execution_count": 7,
     "metadata": {},
     "output_type": "execute_result"
    }
   ],
   "source": [
    "tuned_model = model.get_robustcov_results(cov_type=\"HC3\")\n",
    "tuned_model.summary()\n"
   ]
  },
  {
   "cell_type": "code",
   "execution_count": 8,
   "metadata": {},
   "outputs": [
    {
     "data": {
      "image/png": "[encoded data removed]",
      "text/plain": [
       "<Figure size 432x288 with 1 Axes>"
      ]
     },
     "metadata": {
      "needs_background": "light"
     },
     "output_type": "display_data"
    }
   ],
   "source": [
    "fig = interaction_plot(\n",
    "    df[\"precipitation_category\"], df[\"temp_category\"], df[\"FFB_Yield\"]\n",
    ")\n"
   ]
  },
  {
   "cell_type": "code",
   "execution_count": 9,
   "metadata": {},
   "outputs": [
    {
     "data": {
      "image/png": "[encoded data removed]",
      "text/plain": [
       "<Figure size 432x288 with 1 Axes>"
      ]
     },
     "metadata": {
      "needs_background": "light"
     },
     "output_type": "display_data"
    }
   ],
   "source": [
    "fig = interaction_plot(\n",
    "    df[\"temp_category\"], df[\"precipitation_category\"], df[\"FFB_Yield\"]\n",
    ")\n"
   ]
  },
  {
   "cell_type": "code",
   "execution_count": 10,
   "metadata": {},
   "outputs": [
    {
     "data": {
      "text/html": [
       "<div>\n",
       "<style scoped>\n",
       "    .dataframe tbody tr th:only-of-type {\n",
       "        vertical-align: middle;\n",
       "    }\n",
       "\n",
       "    .dataframe tbody tr th {\n",
       "        vertical-align: top;\n",
       "    }\n",
       "\n",
       "    .dataframe thead th {\n",
       "        text-align: right;\n",
       "    }\n",
       "</style>\n",
       "<table border=\"1\" class=\"dataframe\">\n",
       "  <thead>\n",
       "    <tr style=\"text-align: right;\">\n",
       "      <th></th>\n",
       "      <th>sum_sq</th>\n",
       "      <th>df</th>\n",
       "      <th>F</th>\n",
       "      <th>PR(&gt;F)</th>\n",
       "    </tr>\n",
       "  </thead>\n",
       "  <tbody>\n",
       "    <tr>\n",
       "      <th>C(precipitation_category)</th>\n",
       "      <td>2.855763</td>\n",
       "      <td>2.0</td>\n",
       "      <td>19.236079</td>\n",
       "      <td>5.572888e-08</td>\n",
       "    </tr>\n",
       "    <tr>\n",
       "      <th>C(temp_category)</th>\n",
       "      <td>0.112994</td>\n",
       "      <td>2.0</td>\n",
       "      <td>0.761117</td>\n",
       "      <td>4.693677e-01</td>\n",
       "    </tr>\n",
       "    <tr>\n",
       "      <th>C(precipitation_category):C(temp_category)</th>\n",
       "      <td>0.546851</td>\n",
       "      <td>4.0</td>\n",
       "      <td>1.841761</td>\n",
       "      <td>1.251956e-01</td>\n",
       "    </tr>\n",
       "    <tr>\n",
       "      <th>Residual</th>\n",
       "      <td>8.981750</td>\n",
       "      <td>121.0</td>\n",
       "      <td>NaN</td>\n",
       "      <td>NaN</td>\n",
       "    </tr>\n",
       "  </tbody>\n",
       "</table>\n",
       "</div>"
      ],
      "text/plain": [
       "                                              sum_sq     df          F  \\\n",
       "C(precipitation_category)                   2.855763    2.0  19.236079   \n",
       "C(temp_category)                            0.112994    2.0   0.761117   \n",
       "C(precipitation_category):C(temp_category)  0.546851    4.0   1.841761   \n",
       "Residual                                    8.981750  121.0        NaN   \n",
       "\n",
       "                                                  PR(>F)  \n",
       "C(precipitation_category)                   5.572888e-08  \n",
       "C(temp_category)                            4.693677e-01  \n",
       "C(precipitation_category):C(temp_category)  1.251956e-01  \n",
       "Residual                                             NaN  "
      ]
     },
     "execution_count": 10,
     "metadata": {},
     "output_type": "execute_result"
    }
   ],
   "source": [
    "anova_lm(tuned_model, typ=2, robust=\"hc3\")\n"
   ]
  },
  {
   "cell_type": "markdown",
   "metadata": {},
   "source": [
    "precipitation, pvalue = 0.004 < 0.05 => влияние фактора значимо,\n",
    "остальных не значимо\n"
   ]
  },
  {
   "cell_type": "code",
   "execution_count": null,
   "metadata": {},
   "outputs": [],
   "source": []
  }
 ],
 "metadata": {
  "interpreter": {
   "hash": "57fdf6ced3497be6751aff0d610660c5baf34a48c3eaed9bf5963df6523fe9d6"
  },
  "kernelspec": {
   "display_name": "Python 3.9.12 ('torch')",
   "language": "python",
   "name": "python3"
  },
  "language_info": {
   "codemirror_mode": {
    "name": "ipython",
    "version": 3
   },
   "file_extension": ".py",
   "mimetype": "text/x-python",
   "name": "python",
   "nbconvert_exporter": "python",
   "pygments_lexer": "ipython3",
   "version": "3.9.12"
  },
  "orig_nbformat": 4
 },
 "nbformat": 4,
 "nbformat_minor": 2
}
