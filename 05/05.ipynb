{
 "cells": [
  {
   "cell_type": "code",
   "execution_count": 33,
   "metadata": {},
   "outputs": [],
   "source": [
    "import numpy as np\n",
    "import pandas as pd\n",
    "import seaborn as sns\n",
    "import matplotlib.pyplot as plt\n",
    "\n",
    "from sklearn.model_selection import (\n",
    "    GridSearchCV,\n",
    "    train_test_split,\n",
    ")\n",
    "\n",
    "from sklearn.preprocessing import (\n",
    "    StandardScaler,\n",
    "    MinMaxScaler,\n",
    ")\n",
    "\n",
    "from sklearn.linear_model import Ridge\n",
    "from sklearn.linear_model import Lasso\n",
    "from sklearn.metrics import r2_score\n",
    "\n",
    "from scipy import stats\n"
   ]
  },
  {
   "cell_type": "code",
   "execution_count": 34,
   "metadata": {},
   "outputs": [
    {
     "data": {
      "text/html": [
       "<div>\n",
       "<style scoped>\n",
       "    .dataframe tbody tr th:only-of-type {\n",
       "        vertical-align: middle;\n",
       "    }\n",
       "\n",
       "    .dataframe tbody tr th {\n",
       "        vertical-align: top;\n",
       "    }\n",
       "\n",
       "    .dataframe thead th {\n",
       "        text-align: right;\n",
       "    }\n",
       "</style>\n",
       "<table border=\"1\" class=\"dataframe\">\n",
       "  <thead>\n",
       "    <tr style=\"text-align: right;\">\n",
       "      <th></th>\n",
       "      <th>wage_eur</th>\n",
       "      <th>pace</th>\n",
       "      <th>shooting</th>\n",
       "      <th>passing</th>\n",
       "      <th>dribbling</th>\n",
       "      <th>defending</th>\n",
       "      <th>physic</th>\n",
       "      <th>attacking_crossing</th>\n",
       "      <th>attacking_finishing</th>\n",
       "      <th>attacking_heading_accuracy</th>\n",
       "      <th>...</th>\n",
       "      <th>lwb</th>\n",
       "      <th>ldm</th>\n",
       "      <th>cdm</th>\n",
       "      <th>rdm</th>\n",
       "      <th>rwb</th>\n",
       "      <th>lb</th>\n",
       "      <th>lcb</th>\n",
       "      <th>cb</th>\n",
       "      <th>rcb</th>\n",
       "      <th>rb</th>\n",
       "    </tr>\n",
       "  </thead>\n",
       "  <tbody>\n",
       "    <tr>\n",
       "      <th>0</th>\n",
       "      <td>565000</td>\n",
       "      <td>87.0</td>\n",
       "      <td>92.0</td>\n",
       "      <td>92.0</td>\n",
       "      <td>96.0</td>\n",
       "      <td>39.0</td>\n",
       "      <td>66.0</td>\n",
       "      <td>88</td>\n",
       "      <td>95</td>\n",
       "      <td>70</td>\n",
       "      <td>...</td>\n",
       "      <td>70.0</td>\n",
       "      <td>68.0</td>\n",
       "      <td>68.0</td>\n",
       "      <td>68.0</td>\n",
       "      <td>70.0</td>\n",
       "      <td>65.0</td>\n",
       "      <td>54.0</td>\n",
       "      <td>54.0</td>\n",
       "      <td>54.0</td>\n",
       "      <td>65.0</td>\n",
       "    </tr>\n",
       "    <tr>\n",
       "      <th>1</th>\n",
       "      <td>405000</td>\n",
       "      <td>90.0</td>\n",
       "      <td>93.0</td>\n",
       "      <td>82.0</td>\n",
       "      <td>89.0</td>\n",
       "      <td>35.0</td>\n",
       "      <td>78.0</td>\n",
       "      <td>84</td>\n",
       "      <td>94</td>\n",
       "      <td>89</td>\n",
       "      <td>...</td>\n",
       "      <td>68.0</td>\n",
       "      <td>64.0</td>\n",
       "      <td>64.0</td>\n",
       "      <td>64.0</td>\n",
       "      <td>68.0</td>\n",
       "      <td>64.0</td>\n",
       "      <td>56.0</td>\n",
       "      <td>56.0</td>\n",
       "      <td>56.0</td>\n",
       "      <td>64.0</td>\n",
       "    </tr>\n",
       "    <tr>\n",
       "      <th>2</th>\n",
       "      <td>290000</td>\n",
       "      <td>91.0</td>\n",
       "      <td>85.0</td>\n",
       "      <td>87.0</td>\n",
       "      <td>95.0</td>\n",
       "      <td>32.0</td>\n",
       "      <td>58.0</td>\n",
       "      <td>87</td>\n",
       "      <td>87</td>\n",
       "      <td>62</td>\n",
       "      <td>...</td>\n",
       "      <td>69.0</td>\n",
       "      <td>64.0</td>\n",
       "      <td>64.0</td>\n",
       "      <td>64.0</td>\n",
       "      <td>69.0</td>\n",
       "      <td>64.0</td>\n",
       "      <td>49.0</td>\n",
       "      <td>49.0</td>\n",
       "      <td>49.0</td>\n",
       "      <td>64.0</td>\n",
       "    </tr>\n",
       "    <tr>\n",
       "      <th>3</th>\n",
       "      <td>125000</td>\n",
       "      <td>NaN</td>\n",
       "      <td>NaN</td>\n",
       "      <td>NaN</td>\n",
       "      <td>NaN</td>\n",
       "      <td>NaN</td>\n",
       "      <td>NaN</td>\n",
       "      <td>13</td>\n",
       "      <td>11</td>\n",
       "      <td>15</td>\n",
       "      <td>...</td>\n",
       "      <td>NaN</td>\n",
       "      <td>NaN</td>\n",
       "      <td>NaN</td>\n",
       "      <td>NaN</td>\n",
       "      <td>NaN</td>\n",
       "      <td>NaN</td>\n",
       "      <td>NaN</td>\n",
       "      <td>NaN</td>\n",
       "      <td>NaN</td>\n",
       "      <td>NaN</td>\n",
       "    </tr>\n",
       "    <tr>\n",
       "      <th>4</th>\n",
       "      <td>470000</td>\n",
       "      <td>91.0</td>\n",
       "      <td>83.0</td>\n",
       "      <td>86.0</td>\n",
       "      <td>94.0</td>\n",
       "      <td>35.0</td>\n",
       "      <td>66.0</td>\n",
       "      <td>81</td>\n",
       "      <td>84</td>\n",
       "      <td>61</td>\n",
       "      <td>...</td>\n",
       "      <td>69.0</td>\n",
       "      <td>66.0</td>\n",
       "      <td>66.0</td>\n",
       "      <td>66.0</td>\n",
       "      <td>69.0</td>\n",
       "      <td>64.0</td>\n",
       "      <td>52.0</td>\n",
       "      <td>52.0</td>\n",
       "      <td>52.0</td>\n",
       "      <td>64.0</td>\n",
       "    </tr>\n",
       "  </tbody>\n",
       "</table>\n",
       "<p>5 rows × 62 columns</p>\n",
       "</div>"
      ],
      "text/plain": [
       "   wage_eur  pace  shooting  passing  dribbling  defending  physic  \\\n",
       "0    565000  87.0      92.0     92.0       96.0       39.0    66.0   \n",
       "1    405000  90.0      93.0     82.0       89.0       35.0    78.0   \n",
       "2    290000  91.0      85.0     87.0       95.0       32.0    58.0   \n",
       "3    125000   NaN       NaN      NaN        NaN        NaN     NaN   \n",
       "4    470000  91.0      83.0     86.0       94.0       35.0    66.0   \n",
       "\n",
       "   attacking_crossing  attacking_finishing  attacking_heading_accuracy  ...  \\\n",
       "0                  88                   95                          70  ...   \n",
       "1                  84                   94                          89  ...   \n",
       "2                  87                   87                          62  ...   \n",
       "3                  13                   11                          15  ...   \n",
       "4                  81                   84                          61  ...   \n",
       "\n",
       "    lwb   ldm   cdm   rdm   rwb    lb   lcb    cb   rcb    rb  \n",
       "0  70.0  68.0  68.0  68.0  70.0  65.0  54.0  54.0  54.0  65.0  \n",
       "1  68.0  64.0  64.0  64.0  68.0  64.0  56.0  56.0  56.0  64.0  \n",
       "2  69.0  64.0  64.0  64.0  69.0  64.0  49.0  49.0  49.0  64.0  \n",
       "3   NaN   NaN   NaN   NaN   NaN   NaN   NaN   NaN   NaN   NaN  \n",
       "4  69.0  66.0  66.0  66.0  69.0  64.0  52.0  52.0  52.0  64.0  \n",
       "\n",
       "[5 rows x 62 columns]"
      ]
     },
     "execution_count": 34,
     "metadata": {},
     "output_type": "execute_result"
    }
   ],
   "source": [
    "df = pd.read_csv(\"FIFAPlayers2.csv\")\n",
    "df.head()\n"
   ]
  },
  {
   "cell_type": "code",
   "execution_count": 35,
   "metadata": {},
   "outputs": [
    {
     "name": "stdout",
     "output_type": "stream",
     "text": [
      "<class 'pandas.core.frame.DataFrame'>\n",
      "RangeIndex: 18278 entries, 0 to 18277\n",
      "Data columns (total 62 columns):\n",
      " #   Column                      Non-Null Count  Dtype  \n",
      "---  ------                      --------------  -----  \n",
      " 0   wage_eur                    18278 non-null  int64  \n",
      " 1   pace                        16242 non-null  float64\n",
      " 2   shooting                    16242 non-null  float64\n",
      " 3   passing                     16242 non-null  float64\n",
      " 4   dribbling                   16242 non-null  float64\n",
      " 5   defending                   16242 non-null  float64\n",
      " 6   physic                      16242 non-null  float64\n",
      " 7   attacking_crossing          18278 non-null  int64  \n",
      " 8   attacking_finishing         18278 non-null  int64  \n",
      " 9   attacking_heading_accuracy  18278 non-null  int64  \n",
      " 10  attacking_short_passing     18278 non-null  int64  \n",
      " 11  attacking_volleys           18278 non-null  int64  \n",
      " 12  skill_dribbling             18278 non-null  int64  \n",
      " 13  skill_curve                 18278 non-null  int64  \n",
      " 14  skill_fk_accuracy           18278 non-null  int64  \n",
      " 15  skill_long_passing          18278 non-null  int64  \n",
      " 16  skill_ball_control          18278 non-null  int64  \n",
      " 17  movement_acceleration       18278 non-null  int64  \n",
      " 18  movement_sprint_speed       18278 non-null  int64  \n",
      " 19  movement_agility            18278 non-null  int64  \n",
      " 20  movement_reactions          18278 non-null  int64  \n",
      " 21  movement_balance            18278 non-null  int64  \n",
      " 22  power_shot_power            18278 non-null  int64  \n",
      " 23  power_jumping               18278 non-null  int64  \n",
      " 24  power_stamina               18278 non-null  int64  \n",
      " 25  power_strength              18278 non-null  int64  \n",
      " 26  power_long_shots            18278 non-null  int64  \n",
      " 27  mentality_aggression        18278 non-null  int64  \n",
      " 28  mentality_interceptions     18278 non-null  int64  \n",
      " 29  mentality_positioning       18278 non-null  int64  \n",
      " 30  mentality_vision            18278 non-null  int64  \n",
      " 31  mentality_penalties         18278 non-null  int64  \n",
      " 32  mentality_composure         18278 non-null  int64  \n",
      " 33  defending_marking           18278 non-null  int64  \n",
      " 34  defending_standing_tackle   18278 non-null  int64  \n",
      " 35  defending_sliding_tackle    18278 non-null  int64  \n",
      " 36  ls                          16242 non-null  float64\n",
      " 37  st                          16242 non-null  float64\n",
      " 38  rs                          16242 non-null  float64\n",
      " 39  lw                          16242 non-null  float64\n",
      " 40  lf                          16242 non-null  float64\n",
      " 41  cf                          16242 non-null  float64\n",
      " 42  rf                          16242 non-null  float64\n",
      " 43  rw                          16242 non-null  float64\n",
      " 44  lam                         16242 non-null  float64\n",
      " 45  cam                         16242 non-null  float64\n",
      " 46  ram                         16242 non-null  float64\n",
      " 47  lm                          16242 non-null  float64\n",
      " 48  lcm                         16242 non-null  float64\n",
      " 49  cm                          16242 non-null  float64\n",
      " 50  rcm                         16242 non-null  float64\n",
      " 51  rm                          16242 non-null  float64\n",
      " 52  lwb                         16242 non-null  float64\n",
      " 53  ldm                         16242 non-null  float64\n",
      " 54  cdm                         16242 non-null  float64\n",
      " 55  rdm                         16242 non-null  float64\n",
      " 56  rwb                         16242 non-null  float64\n",
      " 57  lb                          16242 non-null  float64\n",
      " 58  lcb                         16242 non-null  float64\n",
      " 59  cb                          16242 non-null  float64\n",
      " 60  rcb                         16242 non-null  float64\n",
      " 61  rb                          16242 non-null  float64\n",
      "dtypes: float64(32), int64(30)\n",
      "memory usage: 8.6 MB\n"
     ]
    }
   ],
   "source": [
    "df.info()\n"
   ]
  },
  {
   "cell_type": "code",
   "execution_count": 36,
   "metadata": {},
   "outputs": [],
   "source": [
    "df.dropna(inplace=True)\n"
   ]
  },
  {
   "cell_type": "code",
   "execution_count": 37,
   "metadata": {},
   "outputs": [
    {
     "data": {
      "text/plain": [
       "16242"
      ]
     },
     "execution_count": 37,
     "metadata": {},
     "output_type": "execute_result"
    }
   ],
   "source": [
    "len(df)\n"
   ]
  },
  {
   "cell_type": "code",
   "execution_count": 54,
   "metadata": {},
   "outputs": [],
   "source": [
    "target = df.values[:, 0]\n",
    "data = df.values[:, 1:]\n"
   ]
  },
  {
   "cell_type": "code",
   "execution_count": 55,
   "metadata": {},
   "outputs": [],
   "source": [
    "X_train, X_test, y_train, y_test = train_test_split(data, target, test_size=0.2)\n"
   ]
  },
  {
   "cell_type": "code",
   "execution_count": 56,
   "metadata": {},
   "outputs": [],
   "source": [
    "# X_scaler = StandardScaler()\n",
    "# y_scaler = StandardScaler()\n",
    "\n",
    "X_scaler = MinMaxScaler()\n",
    "y_scaler = MinMaxScaler()\n",
    "\n",
    "X_train = X_scaler.fit_transform(X_train)\n",
    "X_test = X_scaler.transform(X_test)\n",
    "\n",
    "# y_mean, y_std = np.mean(y_train), np.std(y_train)\n",
    "y_min, y_max = np.min(y_train), np.max(y_train)\n",
    "\n",
    "\n",
    "# y_train = (y_train - y_mean) / y_std\n",
    "# y_test = (y_test - y_mean) / y_std\n",
    "\n",
    "y_train = (y_train - y_min) / (y_max - y_min)\n",
    "y_test = (y_test - y_min) / (y_max - y_min)\n"
   ]
  },
  {
   "cell_type": "code",
   "execution_count": 57,
   "metadata": {},
   "outputs": [
    {
     "data": {
      "text/plain": [
       "0.24071774878405372"
      ]
     },
     "execution_count": 57,
     "metadata": {},
     "output_type": "execute_result"
    }
   ],
   "source": [
    "ridge = Ridge(alpha=1000)\n",
    "\n",
    "ridge.fit(X_train, y_train)\n",
    "\n",
    "r2_score(y_test, ridge.predict(X_test))\n"
   ]
  },
  {
   "cell_type": "code",
   "execution_count": 58,
   "metadata": {},
   "outputs": [
    {
     "data": {
      "text/plain": [
       "{'alpha': 0.01}"
      ]
     },
     "execution_count": 58,
     "metadata": {},
     "output_type": "execute_result"
    }
   ],
   "source": [
    "search = GridSearchCV(\n",
    "    ridge,\n",
    "    {\"alpha\": [0, 0.0001, 0.001, 0.01, 0.1, 1, 10, 100, 1000, 10000]},\n",
    "    cv=5,\n",
    "    scoring=\"r2\",\n",
    "    n_jobs=-1,\n",
    ").fit(X_train, y_train)\n",
    "\n",
    "search.best_params_\n"
   ]
  },
  {
   "cell_type": "code",
   "execution_count": 59,
   "metadata": {},
   "outputs": [
    {
     "data": {
      "text/plain": [
       "0.3849794228560701"
      ]
     },
     "execution_count": 59,
     "metadata": {},
     "output_type": "execute_result"
    }
   ],
   "source": [
    "ridge.set_params(**search.best_params_).fit(X_train, y_train)\n",
    "\n",
    "r2_score(y_test, ridge.predict(X_test))\n"
   ]
  },
  {
   "cell_type": "code",
   "execution_count": 60,
   "metadata": {},
   "outputs": [
    {
     "data": {
      "text/plain": [
       "array([-0.06853038, -0.12387195,  0.09591319, -0.12148714, -0.02690305,\n",
       "        0.05844899, -0.32354493, -0.32779684, -0.16728178, -0.70543861,\n",
       "        0.00698738, -0.48558083, -0.00155419, -0.01469257, -0.27494353,\n",
       "       -0.677652  , -0.19803181, -0.20190086, -0.03941576, -0.36190415,\n",
       "        0.00697274, -0.0719379 , -0.02562005, -0.25477653, -0.18728002,\n",
       "       -0.14553035, -0.13567451, -0.46312333, -0.44797696, -0.43381945,\n",
       "        0.00871634,  0.0266263 , -0.30918926, -0.40338935, -0.30411318,\n",
       "        0.15454074,  0.15454074,  0.15454074,  0.29508778,  0.22132468,\n",
       "        0.22132468,  0.22132468,  0.29508778,  0.18048766,  0.18048766,\n",
       "        0.18048766,  0.27784829,  0.22738773,  0.22738773,  0.22738773,\n",
       "        0.27784829,  0.2822071 ,  0.2129994 ,  0.2129994 ,  0.2129994 ,\n",
       "        0.2822071 ,  0.21245383,  0.22443183,  0.22443183,  0.22443183,\n",
       "        0.21245383])"
      ]
     },
     "execution_count": 60,
     "metadata": {},
     "output_type": "execute_result"
    }
   ],
   "source": [
    "ridge.coef_\n"
   ]
  },
  {
   "cell_type": "markdown",
   "metadata": {},
   "source": [
    "l2 регуляризация делит поровну \"кредит\" между коэффициентами коррелированных признаков  "
   ]
  },
  {
   "cell_type": "code",
   "execution_count": 61,
   "metadata": {},
   "outputs": [
    {
     "data": {
      "text/plain": [
       "-5.3836007651852924e-08"
      ]
     },
     "execution_count": 61,
     "metadata": {},
     "output_type": "execute_result"
    }
   ],
   "source": [
    "lasso = Lasso()\n",
    "\n",
    "lasso.fit(X_train, y_train)\n",
    "\n",
    "r2_score(y_test, lasso.predict(X_test))\n"
   ]
  },
  {
   "cell_type": "code",
   "execution_count": 74,
   "metadata": {},
   "outputs": [
    {
     "data": {
      "text/plain": [
       "{'alpha': 5e-05}"
      ]
     },
     "execution_count": 74,
     "metadata": {},
     "output_type": "execute_result"
    }
   ],
   "source": [
    "search = GridSearchCV(\n",
    "    lasso,\n",
    "    {\"alpha\": [0.00005, 0.001, 0.005, 0.01, 0.1, 1, 10, 100, 1000, 10000]},\n",
    "    cv=5,\n",
    "    scoring=\"r2\",\n",
    "    n_jobs=-1,\n",
    ").fit(X_train, y_train)\n",
    "\n",
    "search.best_params_\n"
   ]
  },
  {
   "cell_type": "markdown",
   "metadata": {},
   "source": [
    "alpha=0.001 не сходится и за 10000 итераций (30 сек обучения) (актуально для StandardScaler)"
   ]
  },
  {
   "cell_type": "code",
   "execution_count": 75,
   "metadata": {},
   "outputs": [
    {
     "data": {
      "text/plain": [
       "0.28515979238030253"
      ]
     },
     "execution_count": 75,
     "metadata": {},
     "output_type": "execute_result"
    }
   ],
   "source": [
    "lasso.set_params(**search.best_params_).fit(X_train, y_train)\n",
    "\n",
    "r2_score(y_test, lasso.predict(X_test))\n"
   ]
  },
  {
   "cell_type": "code",
   "execution_count": 80,
   "metadata": {},
   "outputs": [
    {
     "data": {
      "text/plain": [
       "array([ 2.60986053e-04, -0.00000000e+00, -0.00000000e+00,  0.00000000e+00,\n",
       "        0.00000000e+00, -4.91269345e-03, -5.23829855e-03,  0.00000000e+00,\n",
       "        1.80614958e-02,  0.00000000e+00,  1.49662308e-02,  0.00000000e+00,\n",
       "        0.00000000e+00, -4.38661154e-03, -2.37235100e-03,  1.02216606e-02,\n",
       "        6.86453406e-05,  6.48219472e-03, -7.80464154e-03,  9.09879202e-02,\n",
       "        0.00000000e+00, -0.00000000e+00,  9.72878410e-04, -1.33603365e-02,\n",
       "       -0.00000000e+00, -2.30257413e-02, -6.23767296e-03, -1.98278173e-03,\n",
       "       -1.54024102e-02,  0.00000000e+00,  3.53755189e-03,  3.38913404e-02,\n",
       "       -0.00000000e+00,  0.00000000e+00, -0.00000000e+00,  0.00000000e+00,\n",
       "        0.00000000e+00,  0.00000000e+00,  0.00000000e+00,  6.41021093e-02,\n",
       "        1.79035526e-17,  3.35691611e-18,  0.00000000e+00,  7.18667906e-04,\n",
       "        0.00000000e+00,  0.00000000e+00,  0.00000000e+00,  9.52330523e-03,\n",
       "        1.78853071e-18,  1.43082457e-18,  0.00000000e+00,  0.00000000e+00,\n",
       "        0.00000000e+00,  0.00000000e+00,  0.00000000e+00,  0.00000000e+00,\n",
       "        2.84089330e-02,  0.00000000e+00,  0.00000000e+00,  0.00000000e+00,\n",
       "        4.20880239e-03])"
      ]
     },
     "execution_count": 80,
     "metadata": {},
     "output_type": "execute_result"
    }
   ],
   "source": [
    "lasso.coef_ "
   ]
  },
  {
   "cell_type": "code",
   "execution_count": 79,
   "metadata": {},
   "outputs": [
    {
     "name": "stdout",
     "output_type": "stream",
     "text": [
      "29\n"
     ]
    },
    {
     "data": {
      "text/plain": [
       "Index(['pace', 'physic', 'attacking_crossing', 'attacking_heading_accuracy',\n",
       "       'attacking_volleys', 'skill_fk_accuracy', 'skill_long_passing',\n",
       "       'skill_ball_control', 'movement_acceleration', 'movement_sprint_speed',\n",
       "       'movement_agility', 'movement_reactions', 'power_jumping',\n",
       "       'power_stamina', 'power_long_shots', 'mentality_aggression',\n",
       "       'mentality_interceptions', 'mentality_positioning',\n",
       "       'mentality_penalties', 'mentality_composure', 'lf', 'cf', 'rf', 'lam',\n",
       "       'lcm', 'cm', 'rcm', 'lb', 'rb'],\n",
       "      dtype='object')"
      ]
     },
     "execution_count": 79,
     "metadata": {},
     "output_type": "execute_result"
    }
   ],
   "source": [
    "print(len(df.columns[1:][lasso.coef_ != 0]))\n",
    "\n",
    "df.columns[1:][lasso.coef_ != 0]\n"
   ]
  },
  {
   "cell_type": "code",
   "execution_count": 78,
   "metadata": {},
   "outputs": [
    {
     "data": {
      "text/plain": [
       "array([-0.12387195,  0.09591319, -0.12148714, -0.02690305, -0.32779684,\n",
       "       -0.70543861, -0.48558083, -0.00155419,  0.00697274, -0.0719379 ,\n",
       "       -0.18728002, -0.43381945, -0.30918926, -0.40338935, -0.30411318,\n",
       "        0.15454074,  0.15454074,  0.15454074,  0.29508778,  0.29508778,\n",
       "        0.18048766,  0.18048766,  0.27784829,  0.27784829,  0.2822071 ,\n",
       "        0.2129994 ,  0.2129994 ,  0.2129994 ,  0.2822071 ,  0.22443183,\n",
       "        0.22443183,  0.22443183])"
      ]
     },
     "execution_count": 78,
     "metadata": {},
     "output_type": "execute_result"
    }
   ],
   "source": [
    "ridge.coef_[np.where(lasso.coef_ == 0)]"
   ]
  },
  {
   "cell_type": "code",
   "execution_count": 81,
   "metadata": {},
   "outputs": [
    {
     "data": {
      "text/plain": [
       "<AxesSubplot:>"
      ]
     },
     "execution_count": 81,
     "metadata": {},
     "output_type": "execute_result"
    },
    {
     "data": {
      "image/png": "[encoded data removed]",
      "text/plain": [
       "<Figure size 432x288 with 2 Axes>"
      ]
     },
     "metadata": {
      "needs_background": "light"
     },
     "output_type": "display_data"
    }
   ],
   "source": [
    "sns.heatmap(df.iloc[:, -1:-10:-1].corr(method=\"pearson\"), annot=True)\n"
   ]
  },
  {
   "cell_type": "markdown",
   "metadata": {},
   "source": [
    "cdm, rdm\n",
    "\n",
    "rcb, lcb\n"
   ]
  },
  {
   "cell_type": "code",
   "execution_count": 82,
   "metadata": {},
   "outputs": [
    {
     "data": {
      "text/plain": [
       "<AxesSubplot:>"
      ]
     },
     "execution_count": 82,
     "metadata": {},
     "output_type": "execute_result"
    },
    {
     "data": {
      "image/png": "[encoded data removed]",
      "text/plain": [
       "<Figure size 432x288 with 1 Axes>"
      ]
     },
     "metadata": {
      "needs_background": "light"
     },
     "output_type": "display_data"
    }
   ],
   "source": [
    "df[\"rcb\"].hist()\n"
   ]
  },
  {
   "cell_type": "code",
   "execution_count": 83,
   "metadata": {},
   "outputs": [
    {
     "data": {
      "image/png": "[encoded data removed]",
      "text/plain": [
       "<Figure size 432x288 with 1 Axes>"
      ]
     },
     "metadata": {
      "needs_background": "light"
     },
     "output_type": "display_data"
    }
   ],
   "source": [
    "stats.probplot(df[\"rcb\"], dist=\"norm\", plot=plt)\n",
    "plt.show()\n"
   ]
  },
  {
   "cell_type": "code",
   "execution_count": 84,
   "metadata": {},
   "outputs": [
    {
     "data": {
      "text/plain": [
       "ShapiroResult(statistic=0.9812924265861511, pvalue=4.895319761999417e-06)"
      ]
     },
     "execution_count": 84,
     "metadata": {},
     "output_type": "execute_result"
    }
   ],
   "source": [
    "stats.shapiro(df[\"rcb\"].sample(500))\n"
   ]
  },
  {
   "cell_type": "code",
   "execution_count": 85,
   "metadata": {},
   "outputs": [
    {
     "data": {
      "text/plain": [
       "<AxesSubplot:>"
      ]
     },
     "execution_count": 85,
     "metadata": {},
     "output_type": "execute_result"
    },
    {
     "data": {
      "image/png": "[encoded data removed]",
      "text/plain": [
       "<Figure size 432x288 with 1 Axes>"
      ]
     },
     "metadata": {
      "needs_background": "light"
     },
     "output_type": "display_data"
    }
   ],
   "source": [
    "df[\"cdm\"].hist()\n"
   ]
  },
  {
   "cell_type": "code",
   "execution_count": 86,
   "metadata": {},
   "outputs": [
    {
     "data": {
      "image/png": "[encoded data removed]",
      "text/plain": [
       "<Figure size 432x288 with 1 Axes>"
      ]
     },
     "metadata": {
      "needs_background": "light"
     },
     "output_type": "display_data"
    }
   ],
   "source": [
    "stats.probplot(df[\"cdm\"], dist=\"norm\", plot=plt)\n",
    "plt.show()\n"
   ]
  },
  {
   "cell_type": "code",
   "execution_count": 87,
   "metadata": {},
   "outputs": [
    {
     "data": {
      "text/plain": [
       "ShapiroResult(statistic=0.9915997982025146, pvalue=1.2054223810560474e-16)"
      ]
     },
     "execution_count": 87,
     "metadata": {},
     "output_type": "execute_result"
    }
   ],
   "source": [
    "stats.shapiro(df[\"cdm\"].sample(5000))\n"
   ]
  },
  {
   "cell_type": "code",
   "execution_count": 88,
   "metadata": {},
   "outputs": [
    {
     "name": "stdout",
     "output_type": "stream",
     "text": [
      "r: 1.0 \n",
      "pvalue: 0.0\n"
     ]
    }
   ],
   "source": [
    "r, pvalue = stats.pearsonr(df[\"cdm\"], df[\"rdm\"])\n",
    "print(\"r:\", r, \"\\npvalue:\", pvalue)\n"
   ]
  },
  {
   "cell_type": "code",
   "execution_count": 89,
   "metadata": {},
   "outputs": [
    {
     "data": {
      "text/plain": [
       "<AxesSubplot:>"
      ]
     },
     "execution_count": 89,
     "metadata": {},
     "output_type": "execute_result"
    },
    {
     "data": {
      "image/png": "[encoded data removed]",
      "text/plain": [
       "<Figure size 432x288 with 2 Axes>"
      ]
     },
     "metadata": {
      "needs_background": "light"
     },
     "output_type": "display_data"
    }
   ],
   "source": [
    "sns.heatmap(df.iloc[:, -1:-10:-1].corr(method=\"spearman\"), annot=True)\n"
   ]
  },
  {
   "cell_type": "code",
   "execution_count": 90,
   "metadata": {},
   "outputs": [
    {
     "name": "stdout",
     "output_type": "stream",
     "text": [
      "rs: 1.0 \n",
      "pvalue: 0.0\n"
     ]
    }
   ],
   "source": [
    "rs, pvalue = stats.spearmanr(df[\"cdm\"], df[\"rdm\"])\n",
    "print(\"rs:\", rs, \"\\npvalue:\", pvalue)\n"
   ]
  },
  {
   "cell_type": "code",
   "execution_count": 91,
   "metadata": {},
   "outputs": [
    {
     "name": "stdout",
     "output_type": "stream",
     "text": [
      "rs: 0.8420990791238221 \n",
      "pvalue: 0.0\n"
     ]
    }
   ],
   "source": [
    "rs, pvalue = stats.spearmanr(df[\"rcb\"], df[\"rwb\"])\n",
    "print(\"rs:\", rs, \"\\npvalue:\", pvalue)\n"
   ]
  },
  {
   "cell_type": "code",
   "execution_count": 92,
   "metadata": {},
   "outputs": [
    {
     "data": {
      "text/plain": [
       "(113697.79115900435,\n",
       " 0.0,\n",
       " 3360,\n",
       " array([[1.23137545e-04, 3.69412634e-04, 8.61962812e-04, ...,\n",
       "         7.38825268e-04, 1.23137545e-04, 1.23137545e-04],\n",
       "        [5.54118951e-04, 1.66235685e-03, 3.87883266e-03, ...,\n",
       "         3.32471371e-03, 5.54118951e-04, 5.54118951e-04],\n",
       "        [9.85100357e-04, 2.95530107e-03, 6.89570250e-03, ...,\n",
       "         5.91060214e-03, 9.85100357e-04, 9.85100357e-04],\n",
       "        ...,\n",
       "        [6.15687723e-05, 1.84706317e-04, 4.30981406e-04, ...,\n",
       "         3.69412634e-04, 6.15687723e-05, 6.15687723e-05],\n",
       "        [6.15687723e-05, 1.84706317e-04, 4.30981406e-04, ...,\n",
       "         3.69412634e-04, 6.15687723e-05, 6.15687723e-05],\n",
       "        [6.15687723e-05, 1.84706317e-04, 4.30981406e-04, ...,\n",
       "         3.69412634e-04, 6.15687723e-05, 6.15687723e-05]]))"
      ]
     },
     "execution_count": 92,
     "metadata": {},
     "output_type": "execute_result"
    }
   ],
   "source": [
    "contingency_table = pd.crosstab(df[\"cdm\"], df[\"rwb\"])\n",
    "stats.chi2_contingency(contingency_table, correction=False)"
   ]
  },
  {
   "cell_type": "code",
   "execution_count": null,
   "metadata": {},
   "outputs": [],
   "source": []
  }
 ],
 "metadata": {
  "interpreter": {
   "hash": "57fdf6ced3497be6751aff0d610660c5baf34a48c3eaed9bf5963df6523fe9d6"
  },
  "kernelspec": {
   "display_name": "Python 3.9.12 ('torch')",
   "language": "python",
   "name": "python3"
  },
  "language_info": {
   "codemirror_mode": {
    "name": "ipython",
    "version": 3
   },
   "file_extension": ".py",
   "mimetype": "text/x-python",
   "name": "python",
   "nbconvert_exporter": "python",
   "pygments_lexer": "ipython3",
   "version": "3.9.12"
  },
  "orig_nbformat": 4
 },
 "nbformat": 4,
 "nbformat_minor": 2
}
